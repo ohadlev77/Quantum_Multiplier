{
 "cells": [
  {
   "cell_type": "markdown",
   "id": "889968e9",
   "metadata": {},
   "source": [
    "# Quantum Multiplier Synthesis Engine\n",
    "\n",
    "Please run the following cell first in order to initialize and import all that necessary: "
   ]
  },
  {
   "cell_type": "code",
   "execution_count": null,
   "id": "659c38d5",
   "metadata": {},
   "outputs": [],
   "source": [
    "# Initializing and importing\n",
    "import numpy as np\n",
    "from qiskit import QuantumCircuit, QuantumRegister, ClassicalRegister, Aer, transpile, IBMQ\n",
    "from qiskit.visualization import plot_histogram\n",
    "from qiskit.tools import job_monitor\n",
    "provider = IBMQ.load_account()\n",
    "\n",
    "import building_blocks\n",
    "import interface"
   ]
  },
  {
   "cell_type": "markdown",
   "id": "e0428223",
   "metadata": {},
   "source": [
    "## Instructions\n",
    "\n",
    "In the following cell set the settings as your wish.\n",
    "NOTE: There are computational limits on the allowed size of the integers to be multiplied (detailed in [README.md](Readme.md)) - Setting oversized integers would result in long execution times or in an error."
   ]
  },
  {
   "cell_type": "code",
   "execution_count": null,
   "id": "55374cea",
   "metadata": {},
   "outputs": [],
   "source": [
    "# Settings\n",
    "number_1 = 5\n",
    "number_2 = 6\n",
    "shots = 1 # For noiseless simulator backends, no need to change to that value\n",
    "backend = provider.get_backend('ibmq_qasm_simulator')"
   ]
  },
  {
   "cell_type": "markdown",
   "id": "40e3cc94",
   "metadata": {},
   "source": [
    "For running the full program, run this cell:"
   ]
  },
  {
   "cell_type": "code",
   "execution_count": null,
   "id": "5f5d252b",
   "metadata": {},
   "outputs": [],
   "source": [
    "# Run Program\n",
    "interface.RunProgram(number_1 = number_1, number_2 = number_2, backend = backend, shots = shots)"
   ]
  },
  {
   "cell_type": "markdown",
   "id": "3c78f4dc",
   "metadata": {},
   "source": [
    "For getting a simple answer (that computed by a quantum simulator), run this cell:"
   ]
  },
  {
   "cell_type": "code",
   "execution_count": null,
   "id": "607ba321",
   "metadata": {},
   "outputs": [],
   "source": [
    "# Multiplication answer only\n",
    "interface.multiplier(number_1 = number_1, number_2 = number_2, backend = backend, shots = shots)"
   ]
  }
 ],
 "metadata": {
  "kernelspec": {
   "display_name": "Python 3 (ipykernel)",
   "language": "python",
   "name": "python3"
  },
  "language_info": {
   "codemirror_mode": {
    "name": "ipython",
    "version": 3
   },
   "file_extension": ".py",
   "mimetype": "text/x-python",
   "name": "python",
   "nbconvert_exporter": "python",
   "pygments_lexer": "ipython3",
   "version": "3.9.7"
  }
 },
 "nbformat": 4,
 "nbformat_minor": 5
}
