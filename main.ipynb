{
 "cells": [
  {
   "cell_type": "markdown",
   "id": "f75343b5",
   "metadata": {},
   "source": [
    "# Quantum Multiplier Synthesis Engine\n",
    "\n",
    "Please run the following cell first in order to initialize and import all that necessary: "
   ]
  },
  {
   "cell_type": "code",
   "execution_count": null,
   "id": "6e76e1f9",
   "metadata": {
    "scrolled": true
   },
   "outputs": [],
   "source": [
    "# Initializing and importing\n",
    "from qiskit import IBMQ\n",
    "provider = IBMQ.load_account()\n",
    "\n",
    "import building_blocks\n",
    "import interface"
   ]
  },
  {
   "cell_type": "markdown",
   "id": "1c4594b4",
   "metadata": {},
   "source": [
    "## Instructions\n",
    "\n",
    "**In the following cell set the settings as your wish.**\n",
    "\n",
    "NOTE: There are computational limits on the allowed size of the integers to be multiplied (as detailed in the README) - Setting oversized integers would result in long execution times or in an error."
   ]
  },
  {
   "cell_type": "code",
   "execution_count": null,
   "id": "248f3dad",
   "metadata": {},
   "outputs": [],
   "source": [
    "# Settings\n",
    "number_1 = 5\n",
    "number_2 = 6\n",
    "shots = 1 # For noiseless simulator backends, no need to change to that value\n",
    "backend = provider.get_backend('ibmq_qasm_simulator')"
   ]
  },
  {
   "cell_type": "markdown",
   "id": "c9c055b7",
   "metadata": {},
   "source": [
    "**For running the full program, run this cell:**\n",
    "\n",
    "NOTE: The high-level circuit diagram will be shown in a compressed one-line fashion. For viewing it in its real dimensions press right-click on it, and then press \"Open image in new tab\" (first option)."
   ]
  },
  {
   "cell_type": "code",
   "execution_count": null,
   "id": "39b5ba49",
   "metadata": {},
   "outputs": [],
   "source": [
    "# Run Program\n",
    "interface.RunProgram(number_1 = number_1, number_2 = number_2, backend = backend, shots = shots)"
   ]
  },
  {
   "cell_type": "markdown",
   "id": "83501a8c",
   "metadata": {},
   "source": [
    "**For getting a simple answer - run this cell:**"
   ]
  },
  {
   "cell_type": "code",
   "execution_count": null,
   "id": "4b1c1120",
   "metadata": {},
   "outputs": [],
   "source": [
    "# Multiplication answer only\n",
    "interface.multiplier(number_1 = number_1, number_2 = number_2, backend = backend, shots = shots)['product']"
   ]
  }
 ],
 "metadata": {
  "kernelspec": {
   "display_name": "Python 3 (ipykernel)",
   "language": "python",
   "name": "python3"
  },
  "language_info": {
   "codemirror_mode": {
    "name": "ipython",
    "version": 3
   },
   "file_extension": ".py",
   "mimetype": "text/x-python",
   "name": "python",
   "nbconvert_exporter": "python",
   "pygments_lexer": "ipython3",
   "version": "3.10.7"
  }
 },
 "nbformat": 4,
 "nbformat_minor": 5
}
